{
 "cells": [
  {
   "cell_type": "code",
   "execution_count": 1,
   "metadata": {},
   "outputs": [],
   "source": [
    "import networkx as nx\n",
    "import stellargraph as sg\n",
    "import pandas as pd\n",
    "import numpy as np\n",
    "import warnings\n",
    "import tensorflow as tf\n",
    "\n",
    "from sklearn import preprocessing, model_selection\n",
    "\n",
    "from tensorflow.keras import layers, Model, optimizers, losses, callbacks\n",
    "\n",
    "warnings.filterwarnings('ignore')\n",
    "np.random.seed(0)\n",
    "tf.random.set_seed(0)"
   ]
  },
  {
   "cell_type": "code",
   "execution_count": 14,
   "metadata": {},
   "outputs": [
    {
     "name": "stdout",
     "output_type": "stream",
     "text": [
      "StellarGraph: Undirected multigraph\n",
      " Nodes: 19717, Edges: 44338\n",
      "\n",
      " Node types:\n",
      "  paper: [19717]\n",
      "    Features: float32 vector, length 500\n",
      "    Edge types: paper-cites->paper\n",
      "\n",
      " Edge types:\n",
      "    paper-cites->paper: [44338]\n"
     ]
    }
   ],
   "source": [
    "from stellargraph import datasets\n",
    "dataset = datasets.PubMedDiabetes()\n",
    "G, target = dataset.load()\n",
    "nodes = list(G.nodes())\n",
    "features = pd.DataFrame(G.node_features(nodes), index=nodes)\n",
    "print(G.info())"
   ]
  },
  {
   "cell_type": "code",
   "execution_count": 15,
   "metadata": {},
   "outputs": [],
   "source": [
    "tr_target, val_target = model_selection.train_test_split(\n",
    "    target, train_size=0.2, stratify=target\n",
    ")\n",
    "\n",
    "val_target, test_target = model_selection.train_test_split(\n",
    "    val_target, train_size=0.5, stratify=val_target\n",
    ")"
   ]
  },
  {
   "cell_type": "code",
   "execution_count": 16,
   "metadata": {},
   "outputs": [],
   "source": [
    "lbe = preprocessing.LabelBinarizer()\n",
    "\n",
    "tr_target = pd.DataFrame(lbe.fit_transform(tr_target.values), index=tr_target.index)\n",
    "val_target = pd.DataFrame(lbe.fit_transform(val_target.values), index=val_target.index)\n",
    "test_target = pd.DataFrame(lbe.fit_transform(test_target.values), index=test_target.index)\n",
    "tot_target = pd.DataFrame(lbe.fit_transform(target.values), index=target.index)"
   ]
  },
  {
   "cell_type": "code",
   "execution_count": 17,
   "metadata": {},
   "outputs": [
    {
     "name": "stdout",
     "output_type": "stream",
     "text": [
      "Calculating 2-th power of normalized A...\n"
     ]
    }
   ],
   "source": [
    "# generator: 관련된 노드만 떼어내주는 역할을 함\n",
    "from stellargraph.mapper import FullBatchNodeGenerator\n",
    "\n",
    "generator = FullBatchNodeGenerator(G, method=\"sgc\", k=2)\n",
    "\n",
    "tr_flow = generator.flow(tr_target.index, tr_target) # node_id, target\n",
    "val_flow = generator.flow(val_target.index, val_target)\n",
    "test_flow = generator.flow(test_target.index, test_target)\n",
    "tot_flow = generator.flow(tot_target.index, tot_target)"
   ]
  },
  {
   "cell_type": "code",
   "execution_count": 25,
   "metadata": {},
   "outputs": [],
   "source": [
    "from stellargraph.layer import GCN\n",
    "# like keras models\n",
    "gcn = GCN(layer_sizes=[tr_target.shape[1]], activations=['softmax'], generator=generator, dropout=0.5, bias=True)\n",
    "\n",
    "# build network\n",
    "nc_inp, nc_out = gcn.build()\n",
    "\n",
    "nc_layer = layers.Dense(16, activation='relu')(nc_out)\n",
    "nc_layer = layers.Dense(tr_target.shape[1], activation='softmax')(nc_layer)\n",
    "\n",
    "\n",
    "nc_model = Model(inputs=nc_inp, outputs=nc_layer)\n",
    "nc_model.compile(\n",
    "    optimizer=optimizers.Adam(lr=1e-3),\n",
    "    loss='categorical_crossentropy',\n",
    "    metrics=[\"acc\"],\n",
    ")"
   ]
  },
  {
   "cell_type": "code",
   "execution_count": 26,
   "metadata": {},
   "outputs": [
    {
     "name": "stdout",
     "output_type": "stream",
     "text": [
      "WARNING:tensorflow:sample_weight modes were coerced from\n",
      "  ...\n",
      "    to  \n",
      "  ['...']\n",
      "WARNING:tensorflow:sample_weight modes were coerced from\n",
      "  ...\n",
      "    to  \n",
      "  ['...']\n",
      "Train for 1 steps, validate for 1 steps\n",
      "Epoch 1/200\n",
      "1/1 [==============================] - 1s 1s/step - loss: 1.0871 - acc: 0.3994 - val_loss: 1.0863 - val_acc: 0.3994\n",
      "Epoch 2/200\n",
      "1/1 [==============================] - 1s 731ms/step - loss: 1.0863 - acc: 0.3994 - val_loss: 1.0855 - val_acc: 0.3994\n",
      "Epoch 3/200\n",
      "1/1 [==============================] - 1s 704ms/step - loss: 1.0855 - acc: 0.3994 - val_loss: 1.0848 - val_acc: 0.3994\n",
      "Epoch 4/200\n",
      "1/1 [==============================] - 1s 721ms/step - loss: 1.0848 - acc: 0.3994 - val_loss: 1.0840 - val_acc: 0.3994\n",
      "Epoch 5/200\n",
      "1/1 [==============================] - 1s 695ms/step - loss: 1.0840 - acc: 0.3994 - val_loss: 1.0833 - val_acc: 0.3994\n",
      "Epoch 6/200\n",
      "1/1 [==============================] - 1s 707ms/step - loss: 1.0833 - acc: 0.3994 - val_loss: 1.0826 - val_acc: 0.3994\n",
      "Epoch 7/200\n",
      "1/1 [==============================] - 1s 700ms/step - loss: 1.0826 - acc: 0.3994 - val_loss: 1.0820 - val_acc: 0.3994\n",
      "Epoch 8/200\n",
      "1/1 [==============================] - 1s 716ms/step - loss: 1.0820 - acc: 0.3994 - val_loss: 1.0813 - val_acc: 0.3994\n",
      "Epoch 9/200\n",
      "1/1 [==============================] - 1s 719ms/step - loss: 1.0813 - acc: 0.3994 - val_loss: 1.0807 - val_acc: 0.3994\n",
      "Epoch 10/200\n",
      "1/1 [==============================] - 1s 739ms/step - loss: 1.0807 - acc: 0.3994 - val_loss: 1.0800 - val_acc: 0.3994\n",
      "Epoch 11/200\n",
      "1/1 [==============================] - 1s 712ms/step - loss: 1.0800 - acc: 0.3994 - val_loss: 1.0794 - val_acc: 0.3994\n"
     ]
    }
   ],
   "source": [
    "es = callbacks.EarlyStopping(patience=10, restore_best_weights=True, monitor='val_acc')\n",
    "nc_hist = nc_model.fit(tr_flow, epochs=200,\n",
    "                validation_data=val_flow,\n",
    "                shuffle=False, # should be False!!\n",
    "                callbacks=[es],\n",
    "                verbose=1)  "
   ]
  },
  {
   "cell_type": "code",
   "execution_count": 20,
   "metadata": {},
   "outputs": [
    {
     "data": {
      "image/png": "[encoded data removed]",
      "text/plain": [
       "<Figure size 504x576 with 2 Axes>"
      ]
     },
     "metadata": {
      "needs_background": "light"
     },
     "output_type": "display_data"
    }
   ],
   "source": [
    "sg.utils.plot_history(nc_hist)"
   ]
  },
  {
   "cell_type": "code",
   "execution_count": 21,
   "metadata": {},
   "outputs": [
    {
     "name": "stdout",
     "output_type": "stream",
     "text": [
      "f1_micro: 0.392 \n",
      "f1_macro: 0.188\n"
     ]
    }
   ],
   "source": [
    "from sklearn.metrics import f1_score\n",
    "\n",
    "f1_micro = f1_score(list(map(np.argmax, test_target.values)), list(map(np.argmax, (nc_model.predict(test_flow).squeeze()))), average='micro')\n",
    "f1_marco = f1_score(list(map(np.argmax, test_target.values)), list(map(np.argmax, (nc_model.predict(test_flow).squeeze()))), average='macro')\n",
    "\n",
    "print('f1_micro:', round(f1_micro,3), '\\nf1_macro:', round(f1_marco, 3)) \n"
   ]
  },
  {
   "cell_type": "code",
   "execution_count": 22,
   "metadata": {},
   "outputs": [
    {
     "name": "stdout",
     "output_type": "stream",
     "text": [
      "f1_micro: 0.839 \n",
      "f1_macro: 0.188\n"
     ]
    }
   ],
   "source": [
    "from sklearn.linear_model import LogisticRegression\n",
    "\n",
    "tr_tar = list(map(lambda x: np.argmax(x), tr_target.values))\n",
    "lr = LogisticRegression().fit(features.loc[tr_target.index], tr_tar)\n",
    "\n",
    "f1_micro = f1_score(list(map(np.argmax, test_target.values)), list(map(np.argmax, (lr.predict_proba(features.loc[test_target.index])))), average='micro')\n",
    "f1_macro = f1_score(list(map(np.argmax, test_target.values)), list(map(np.argmax, (lr.predict_proba(features.loc[test_target.index])))), average='macro')\n",
    "\n",
    "print('f1_micro:', round(f1_micro,3), '\\nf1_macro:', round(f1_marco, 3)) \n"
   ]
  },
  {
   "cell_type": "code",
   "execution_count": 27,
   "metadata": {},
   "outputs": [
    {
     "name": "stdout",
     "output_type": "stream",
     "text": [
      "Model: \"model_1\"\n",
      "__________________________________________________________________________________________________\n",
      "Layer (type)                    Output Shape         Param #     Connected to                     \n",
      "==================================================================================================\n",
      "input_5 (InputLayer)            [(1, 19717, 500)]    0                                            \n",
      "__________________________________________________________________________________________________\n",
      "input_7 (InputLayer)            [(1, None, 2)]       0                                            \n",
      "__________________________________________________________________________________________________\n",
      "input_8 (InputLayer)            [(1, None)]          0                                            \n",
      "__________________________________________________________________________________________________\n",
      "dropout_1 (Dropout)             (1, 19717, 500)      0           input_5[0][0]                    \n",
      "__________________________________________________________________________________________________\n",
      "input_6 (InputLayer)            [(1, None)]          0                                            \n",
      "__________________________________________________________________________________________________\n",
      "squeezed_sparse_conversion_1 (S (19717, 19717)       0           input_7[0][0]                    \n",
      "                                                                 input_8[0][0]                    \n",
      "__________________________________________________________________________________________________\n",
      "graph_convolution_1 (GraphConvo (1, None, 3)         1503        dropout_1[0][0]                  \n",
      "                                                                 input_6[0][0]                    \n",
      "                                                                 squeezed_sparse_conversion_1[0][0\n",
      "__________________________________________________________________________________________________\n",
      "dense (Dense)                   (1, None, 16)        64          graph_convolution_1[0][0]        \n",
      "__________________________________________________________________________________________________\n",
      "dense_1 (Dense)                 (1, None, 3)         51          dense[0][0]                      \n",
      "==================================================================================================\n",
      "Total params: 1,618\n",
      "Trainable params: 1,618\n",
      "Non-trainable params: 0\n",
      "__________________________________________________________________________________________________\n"
     ]
    }
   ],
   "source": [
    "nc_model.summary()"
   ]
  }
 ],
 "metadata": {
  "kernelspec": {
   "display_name": "Python 3",
   "language": "python",
   "name": "python3"
  },
  "language_info": {
   "codemirror_mode": {
    "name": "ipython",
    "version": 3
   },
   "file_extension": ".py",
   "mimetype": "text/x-python",
   "name": "python",
   "nbconvert_exporter": "python",
   "pygments_lexer": "ipython3",
   "version": "3.7.0"
  },
  "toc": {
   "base_numbering": 1,
   "nav_menu": {},
   "number_sections": true,
   "sideBar": true,
   "skip_h1_title": false,
   "title_cell": "Table of Contents",
   "title_sidebar": "Contents",
   "toc_cell": false,
   "toc_position": {},
   "toc_section_display": true,
   "toc_window_display": false
  }
 },
 "nbformat": 4,
 "nbformat_minor": 4
}
